{
 "cells": [
  {
   "cell_type": "code",
   "execution_count": 1,
   "id": "63dbd6a8",
   "metadata": {},
   "outputs": [
    {
     "name": "stderr",
     "output_type": "stream",
     "text": [
      "2021-10-04 04:40:24.121899: I tensorflow/stream_executor/platform/default/dso_loader.cc:49] Successfully opened dynamic library libcudart.so.11.0\n"
     ]
    },
    {
     "data": {
      "text/plain": [
       "'2.4.0'"
      ]
     },
     "execution_count": 1,
     "metadata": {},
     "output_type": "execute_result"
    }
   ],
   "source": [
    "import tensorflow as tf\n",
    "\n",
    "tf.__version__"
   ]
  },
  {
   "cell_type": "code",
   "execution_count": 34,
   "id": "33ceff9c",
   "metadata": {},
   "outputs": [],
   "source": [
    "_core = tf.keras.layers.LSTMCell(256)\n",
    "input_ = tf.zeros((2,8))\n",
    "core_state = (tf.zeros((1,256)), tf.zeros((1,256)))"
   ]
  },
  {
   "cell_type": "code",
   "execution_count": 35,
   "id": "5fe83713",
   "metadata": {},
   "outputs": [],
   "source": [
    "core_output, core_state = _core(input_, core_state)"
   ]
  },
  {
   "cell_type": "code",
   "execution_count": 37,
   "id": "0e0bec5d",
   "metadata": {},
   "outputs": [
    {
     "data": {
      "text/plain": [
       "TensorShape([2, 256])"
      ]
     },
     "execution_count": 37,
     "metadata": {},
     "output_type": "execute_result"
    }
   ],
   "source": [
    "core_output.shape"
   ]
  },
  {
   "cell_type": "code",
   "execution_count": null,
   "id": "f960a3ae",
   "metadata": {},
   "outputs": [],
   "source": []
  }
 ],
 "metadata": {
  "kernelspec": {
   "display_name": "py37",
   "language": "python",
   "name": "py37"
  },
  "language_info": {
   "codemirror_mode": {
    "name": "ipython",
    "version": 3
   },
   "file_extension": ".py",
   "mimetype": "text/x-python",
   "name": "python",
   "nbconvert_exporter": "python",
   "pygments_lexer": "ipython3",
   "version": "3.7.0"
  }
 },
 "nbformat": 4,
 "nbformat_minor": 5
}
